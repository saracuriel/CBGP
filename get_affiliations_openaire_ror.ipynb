{
 "cells": [
  {
   "cell_type": "markdown",
   "id": "1743bfee",
   "metadata": {},
   "source": [
    "## Affiliation data retrieval from OpenAIRE"
   ]
  },
  {
   "cell_type": "code",
   "execution_count": 61,
   "id": "33c9c155",
   "metadata": {},
   "outputs": [
    {
     "name": "stdout",
     "output_type": "stream",
     "text": [
      "                   doi                                    legalname  \\\n",
      "0  10.1093/bib/bbae122               The University of Texas System   \n",
      "1  10.1093/bib/bbae122                Agricultural Research Service   \n",
      "2  10.1093/bib/bbae122           California Institute of Technology   \n",
      "3  10.1093/bib/bbae122                   Baylor College of Medicine   \n",
      "4  10.1093/bib/bbae122  Centre for Plant Biotechnology and Genomics   \n",
      "\n",
      "  legalshortname                             websiteurl        country  \n",
      "0      UT System               http://www.utsystem.edu/  United States  \n",
      "1            ARS  http://www.ars.usda.gov/main/main.htm  United States  \n",
      "2            CIT                http://www.caltech.edu/  United States  \n",
      "3            BCM                   https://www.bcm.edu/  United States  \n",
      "4           CBGP             http://www.cbgp.upm.es/en/          Spain  \n"
     ]
    }
   ],
   "source": [
    "import requests\n",
    "import xml.etree.ElementTree as ET\n",
    "import pandas as pd\n",
    "\n",
    "file_path = \"publications.csv\" #input file with \"doi\" column\n",
    "df = pd.read_csv(file_path)\n",
    "\n",
    "doi_affiliation_data = []\n",
    "\n",
    "\n",
    "for doi in df['doi'].dropna().tolist(): \n",
    "    api_url = f\"https://api.openaire.eu/search/researchProducts?doi={doi}\"\n",
    "    response = requests.get(api_url)\n",
    "    if response.status_code == 200:\n",
    "        root = ET.fromstring(response.text) #parse XML response\n",
    "        results = []\n",
    "\n",
    "        if root is not None:\n",
    "            rel_elements = root.findall(\".//rel\")  #find all <rel> elements\n",
    "            for rel in rel_elements:\n",
    "                to_element = rel.find(\"to\")  #find <to>\n",
    "                if to_element is not None and to_element.get(\"class\") == \"hasAuthorInstitution\":\n",
    "                    legalname = rel.find(\"legalname\")\n",
    "                    legalshortname = rel.find(\"legalshortname\")\n",
    "                    websiteurl = rel.find(\"websiteurl\")\n",
    "                    country = rel.find(\"country\")\n",
    "                    if country is not None and country.get(\"classname\"):\n",
    "                        countryname = country.get(\"classname\")\n",
    "                        \n",
    "                    results.append({\n",
    "                        \"doi\": doi,\n",
    "                        \"legalname\": legalname.text.strip() if legalname is not None else \"No legalname provided\",\n",
    "                        \"legalshortname\": legalshortname.text.strip() if legalshortname is not None else \"No legalshortname provided\",\n",
    "                        \"websiteurl\": websiteurl.text.strip() if websiteurl is not None else \"No websiteurl provided\",\n",
    "                        \"country\": countryname if countryname is not None else \"No country provided\"\n",
    "                    })\n",
    "\n",
    "        #remove duplicates (keep 1st one)\n",
    "        unique_results = []\n",
    "        seen_legalnames = set()\n",
    "        for result in results:\n",
    "            legalname = result[\"legalname\"]\n",
    "            if legalname not in seen_legalnames:\n",
    "                unique_results.append(result)\n",
    "                seen_legalnames.add(legalname)\n",
    "\n",
    "                \n",
    "        doi_affiliation_data.extend(unique_results)\n",
    "\n",
    "#save data to a CSV file\n",
    "affiliation_df = pd.DataFrame(doi_affiliation_data)\n",
    "affiliation_df.to_csv(\"affiliations.csv\", index=False)\n",
    "\n",
    "\n",
    "print(affiliation_df.head())\n",
    "\n"
   ]
  },
  {
   "cell_type": "markdown",
   "id": "0d2a0f9f",
   "metadata": {},
   "source": [
    "## Organization data retrieval from ROR"
   ]
  },
  {
   "cell_type": "code",
   "execution_count": 62,
   "id": "00bb7db0",
   "metadata": {},
   "outputs": [
    {
     "name": "stdout",
     "output_type": "stream",
     "text": [
      "Failed to fetch data for National Institute of Health (NIH/NICHD) (Status Code: 500)\n",
      "Failed to fetch data for UNIVERSIDAD DEL PAIS VASCO/ EUSKAL HERRIKO UNIBERTSITATEA (Status Code: 500)\n",
      "Failed to fetch data for UNIVERSIDAD DEL PAIS VASCO/ EUSKAL HERRIKO UNIBERTSITATEA (Status Code: 500)\n",
      "Failed to fetch data for Universidad del País Vasco (UPV/EHU) (Status Code: 500)\n",
      "Failed to fetch data for UNIVERSIDAD DEL PAIS VASCO/ EUSKAL HERRIKO UNIBERTSITATEA (Status Code: 500)\n",
      "Failed to fetch data for UNIVERSIDAD DEL PAIS VASCO/ EUSKAL HERRIKO UNIBERTSITATEA (Status Code: 500)\n",
      "                              Institution Name                     ROR_ID  \\\n",
      "0               The University of Texas System  https://ror.org/01gek1696   \n",
      "1                Agricultural Research Service  https://ror.org/02d2m2044   \n",
      "2           California Institute of Technology  https://ror.org/05dxps055   \n",
      "3                   Baylor College of Medicine  https://ror.org/02pttbw34   \n",
      "4  Centre for Plant Biotechnology and Genomics  https://ror.org/04mfzb702   \n",
      "\n",
      "   Latitude  Longitude  \n",
      "0  30.26715  -97.74306  \n",
      "1  38.89511  -77.03637  \n",
      "2  34.14778 -118.14452  \n",
      "3  29.76328  -95.36327  \n",
      "4  40.43293   -3.81338  \n"
     ]
    }
   ],
   "source": [
    "af_file_path = \"affiliations.csv\"\n",
    "af = pd.read_csv(af_file_path)\n",
    "\n",
    "ror_affiliation_data = []\n",
    "\n",
    "for name in af['legalname'].dropna().tolist(): \n",
    "    base_url = \"https://api.ror.org/organizations\"\n",
    "    params = {\"query\": name}\n",
    "    \n",
    "    response = requests.get(base_url, params=params)\n",
    "    if response.status_code == 200:\n",
    "        data = response.json()\n",
    "        results = []\n",
    "    \n",
    "        for item in data.get(\"items\", []):\n",
    "            if item.get(\"name\") == name: #pick the one that matches the legal name of the institution\n",
    "                results.append({\n",
    "                    \"Institution Name\": name,\n",
    "                    \"ROR_ID\": item.get(\"id\", \"N/A\"),\n",
    "                    \"Latitude\": item.get(\"addresses\", [{}])[0].get(\"lat\", \"N/A\"),\n",
    "                    \"Longitude\": item.get(\"addresses\", [{}])[0].get(\"lng\", \"N/A\")\n",
    "                })\n",
    "        \n",
    "  \n",
    "        ror_affiliation_data.extend(results)\n",
    "    else:\n",
    "        print(f\"Failed to fetch data for {name} (Status Code: {response.status_code})\")\n",
    "\n",
    "\n",
    "ror_df = pd.DataFrame(ror_affiliation_data)\n",
    "#remove duplicates\n",
    "ror_df = ror_df.drop_duplicates(subset=[\"ROR_ID\"])\n",
    "#save data to a CSV file\n",
    "ror_df.to_csv(\"affiliation_ror.csv\", index=False)\n",
    "\n",
    "\n",
    "print(ror_df.head())\n"
   ]
  },
  {
   "cell_type": "code",
   "execution_count": null,
   "id": "f54a524f",
   "metadata": {},
   "outputs": [],
   "source": []
  }
 ],
 "metadata": {
  "kernelspec": {
   "display_name": "Python 3",
   "language": "python",
   "name": "python3"
  },
  "language_info": {
   "codemirror_mode": {
    "name": "ipython",
    "version": 3
   },
   "file_extension": ".py",
   "mimetype": "text/x-python",
   "name": "python",
   "nbconvert_exporter": "python",
   "pygments_lexer": "ipython3",
   "version": "3.8.8"
  }
 },
 "nbformat": 4,
 "nbformat_minor": 5
}
